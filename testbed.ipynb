{
 "cells": [
  {
   "cell_type": "code",
   "execution_count": 8,
   "metadata": {},
   "outputs": [],
   "source": [
    "from TorchCoder import *\n",
    "import pandas as pd\n",
    "import numpy as np\n",
    "import os"
   ]
  },
  {
   "cell_type": "code",
   "execution_count": 27,
   "metadata": {},
   "outputs": [],
   "source": [
    "MAX_NUM_PATIENTS = 500\n",
    "PYCHARMMODE = True\n",
    "DATA_DIR = r'./tmp' if PYCHARMMODE else r\"dataset/hiNet/sinwave\"\n",
    "WINDOW_SIZE = 24\n",
    "NUM_SAMPLES = 10000\n",
    "\n",
    "\n",
    "def get_sinwave(a, b, c, d, x_values):\n",
    "    return a * np.sin(b * (x_values - c)) + d\n",
    "\n",
    "\n",
    "def get_patient_df_by_pid(full_df: pd.DataFrame, pid: int):\n",
    "    return full_df.loc[\n",
    "        full_df.index.get_level_values(0) == pid\n",
    "        ].droplevel(0).sort_index()\n",
    "\n",
    "\n",
    "def load_raw_patient_dfs(csv_file_path: str):\n",
    "    full_df = pd.read_csv(csv_file_path,\n",
    "                          sep=',',\n",
    "                          keep_default_na=True,\n",
    "                          index_col=[0, 1],\n",
    "                          usecols=[0, 1] + list(range(3, 11)))\n",
    "    return full_df\n",
    "\n",
    "\n",
    "def expand_patient_df_to_a_StackSWS(\n",
    "        patient_df: pd.DataFrame, W_0: int) -> np.ndarray:\n",
    "    # conduct the sliding window operation:\n",
    "    # type conversion:\n",
    "    patient_df = patient_df.to_numpy()\n",
    "    T, V = patient_df.shape\n",
    "    \"\"\"\n",
    "    tmp = np.lib.stride_tricks.sliding_windown_view(patient_df, (W_0, V))\n",
    "    will return an ndarray of shape \n",
    "        (B_downward, B_rightward, W_0, V), \n",
    "    where patient_df is of shape \n",
    "        (T, V), \n",
    "    and B_downward is the number of snapshots if we slide the window from\n",
    "    the upper left corner of the patient_df downward, i.e. \n",
    "        B_downward == T - W_0 + 1,\n",
    "    and B_rightward is the number of snapshots if we slide the window from\n",
    "    the upper left corner of the patient_df rightward, i.e.\n",
    "        B_rightward == V - V + 1 == 1.\n",
    "\n",
    "    tmp.squeez() will shrink the size1 dimension, i.e. reshape to \n",
    "        (B, W_0, V). \n",
    "    \"\"\"\n",
    "    stack_of_SWS = \\\n",
    "        np.lib.stride_tricks.sliding_window_view(\n",
    "            patient_df,\n",
    "            (W_0, V)\n",
    "        ).squeeze().astype(np.float32)\n",
    "    # shape conversion: (T, V) -> (B, W_0, V)\n",
    "    return stack_of_SWS\n",
    "\n",
    "\n",
    "def stack_all_patients_StackSWS(full_df, W_0) -> np.ndarray:\n",
    "    stackSWS_list = []\n",
    "    total_number_of_patients = min(MAX_NUM_PATIENTS, len(\n",
    "        set(full_df.index.get_level_values(0))))\n",
    "    for patient_id in range(total_number_of_patients):\n",
    "        \"\"\"\n",
    "        patient_df is the patient data frame of shape (T_i, V), \n",
    "        where i is the patient_id,\n",
    "        and T_i is the number of time ticks (i.e. number of data rows, \n",
    "        note the title row is not included in T_i) for the patient's records, \n",
    "        and V is the number of vital signs for the patient (i.e. number of \n",
    "        data columns, note the index column is not included in V).\n",
    "        \"\"\"\n",
    "        patient_df = get_patient_df_by_pid(full_df, patient_id)\n",
    "\n",
    "        \"\"\"\n",
    "        stackSWS is of shape (B_i, W_0, V), \n",
    "        where i is the patient_id,\n",
    "        and B_i is the number of sliding window snapshots, \n",
    "        i.e. B_i == T_i - W_0 + 1.\n",
    "        \"\"\"\n",
    "        stackSWS = expand_patient_df_to_a_StackSWS(\n",
    "            patient_df, W_0)\n",
    "\n",
    "        stackSWS_list.append(stackSWS)\n",
    "\n",
    "    \"\"\"\n",
    "    Now stackSWS_list has total_number_of_patients elements, each element is\n",
    "    a patient's StackSWS, which is an np.ndarray of shape \n",
    "        (B_i, W_0, V), \n",
    "    where B_i == T_i - W_0 + 1.\n",
    "\n",
    "    tmp = np.concatenate(batched_df_list, axis=0) is hence of shape\n",
    "        ($\\sum_i B_i$, W_0, V),\n",
    "    that is, stacked all StackSWS together.\n",
    "\n",
    "    We call tmp a Stack2SWS.\n",
    "    \"\"\"\n",
    "    return np.concatenate(stackSWS_list, axis=0)\n",
    "\n",
    "\n",
    "def prepare_offline_sinwave_dataset_files(datadir=DATA_DIR, W_0=WINDOW_SIZE,\n",
    "        num_samples=NUM_SAMPLES):\n",
    "    samples = []\n",
    "    if not os.path.exists(datadir):\n",
    "        os.mkdir(datadir)\n",
    "    for idx in range(num_samples):\n",
    "        b = np.random.random() + 0.3\n",
    "        a = np.random.random()\n",
    "        c = np.random.randint(1, 100)\n",
    "        d = np.random.randint(10, 50)\n",
    "        sample = get_sinwave(a, b, c, d, np.arange(0, W_0)).astype(np.float32)\n",
    "        sample_df = pd.DataFrame({\"values\": sample})\n",
    "        sample_df.to_csv(os.path.join(datadir, f\"{str(idx).zfill(6)}_sinw.csv\"))\n",
    "        samples.append(sample)\n",
    "    return np.array(samples)"
   ]
  },
  {
   "cell_type": "markdown",
   "metadata": {},
   "source": [
    "Prepare the dataset for use"
   ]
  },
  {
   "cell_type": "code",
   "execution_count": 28,
   "metadata": {},
   "outputs": [],
   "source": [
    "samples = prepare_offline_sinwave_dataset_files()"
   ]
  },
  {
   "cell_type": "code",
   "execution_count": 29,
   "metadata": {},
   "outputs": [],
   "source": [
    "samples = np.expand_dims(samples, 2)"
   ]
  },
  {
   "cell_type": "code",
   "execution_count": 3,
   "metadata": {},
   "outputs": [],
   "source": [
    "imputed_df = load_raw_patient_dfs(r'D:\\Codes\\MedicalCpsAI\\dataset\\processed_csv\\imputed_df.csv')\n",
    "dataset = stack_all_patients_StackSWS(imputed_df, 10)"
   ]
  },
  {
   "cell_type": "code",
   "execution_count": 54,
   "metadata": {},
   "outputs": [
    {
     "data": {
      "application/vnd.jupyter.widget-view+json": {
       "model_id": "e80c6c2ebcbe4ee4a200f19596e154ce",
       "version_major": 2,
       "version_minor": 0
      },
      "text/plain": [
       "  0%|          | 0/10000 [00:00<?, ?it/s]"
      ]
     },
     "metadata": {},
     "output_type": "display_data"
    },
    {
     "name": "stdout",
     "output_type": "stream",
     "text": [
      "epoch : 100, loss_mean : 939.6826782\n",
      "epoch : 200, loss_mean : 888.2557373\n",
      "epoch : 300, loss_mean : 845.3298950\n"
     ]
    }
   ],
   "source": [
    "encoded, decoded, final_loss = QuickEncode(samples, embedding_dim=2, epochs=10000)"
   ]
  },
  {
   "cell_type": "code",
   "execution_count": 38,
   "metadata": {},
   "outputs": [
    {
     "data": {
      "text/plain": [
       "torch.Size([10000, 24])"
      ]
     },
     "execution_count": 38,
     "metadata": {},
     "output_type": "execute_result"
    }
   ],
   "source": [
    "decoded.shape"
   ]
  },
  {
   "cell_type": "code",
   "execution_count": 53,
   "metadata": {},
   "outputs": [
    {
     "data": {
      "image/png": "[encoded data removed]",
      "text/plain": [
       "<Figure size 432x288 with 1 Axes>"
      ]
     },
     "metadata": {
      "needs_background": "light"
     },
     "output_type": "display_data"
    }
   ],
   "source": [
    "import matplotlib.pyplot as plt\n",
    "\n",
    "plt.plot(decoded[20, :])\n",
    "# plt.plot(samples[20, :, 0])\n",
    "plt.show()"
   ]
  },
  {
   "cell_type": "code",
   "execution_count": 10,
   "metadata": {},
   "outputs": [
    {
     "data": {
      "text/plain": [
       "torch.Size([50046, 16])"
      ]
     },
     "execution_count": 10,
     "metadata": {},
     "output_type": "execute_result"
    }
   ],
   "source": [
    "encoded.shape"
   ]
  },
  {
   "cell_type": "code",
   "execution_count": null,
   "metadata": {},
   "outputs": [],
   "source": []
  }
 ],
 "metadata": {
  "kernelspec": {
   "display_name": "Python 3.8.8 ('base')",
   "language": "python",
   "name": "python3"
  },
  "language_info": {
   "codemirror_mode": {
    "name": "ipython",
    "version": 3
   },
   "file_extension": ".py",
   "mimetype": "text/x-python",
   "name": "python",
   "nbconvert_exporter": "python",
   "pygments_lexer": "ipython3",
   "version": "3.8.8"
  },
  "orig_nbformat": 4,
  "vscode": {
   "interpreter": {
    "hash": "a077222d77dfe082b8f1dd562ad70e458ac2ab76993a0b248ab0476e32e9e8dd"
   }
  }
 },
 "nbformat": 4,
 "nbformat_minor": 2
}
